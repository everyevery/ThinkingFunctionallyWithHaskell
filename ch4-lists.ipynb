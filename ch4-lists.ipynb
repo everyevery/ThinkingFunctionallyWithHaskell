{
 "cells": [
  {
   "cell_type": "markdown",
   "metadata": {},
   "source": [
    "# 4장 Lists\n",
    "\n",
    "## 4.1 List notation\n",
    "\n",
    "List 자료구조는 functional programming에서 가장 중요한 자료구조이다. List는 매우 많은 유용한 연산을 가지고 있다.\n",
    "\n",
    "a 자료형으로 이루어진 list는 [a]로 표기한다.\n",
    "\n",
    "    [undefined,undefined] :: [a]\n",
    "    [sin,cos,tan]         :: Floating a => [a -> a]\n",
    "    [[1,2,3],[4,5]]       :: Num a => [[a]]\n",
    "    [\"tea\",\"for\",2]          not valid\n",
    "\n",
    "사실 [a]의 list 표기법은 1:2:3:[]의 축약이다. (:) :: a -> [a] -> [a] 는 list를 만드는 연산자이며 'cons'라 부른다. (:)는 두 인자 모두에 대해서 non-strict로 동작한다. 따라서 undefined : undefined도 가능하다.\n",
    "\n",
    "empty list []도 list constructor이다. List는 Haskell data ypte에서 아래와 같이 선언할 수 있다.\n",
    "\n",
    "    data List a = Nil | Cons a (List a)\n",
    "\n",
    "위 정의에 따르면 모든 list는 다음의 3가지 형태 중에 하나임.\n",
    "\n",
    "* undefined :: [a]\n",
    "* [] :: [a]\n",
    "* x:xs where x :: a and xs :: [a]\n",
    "\n",
    "그 결과 3가지 list가 존재한다.\n",
    "\n",
    "* finite list: (:)과 []로 만들어짐. 1:2:3:[]\n",
    "* partial list: (:)가 undefined로 만들어짐. 1:2:3:undefined\n",
    "* infinite list: (:)로만 만들어짐. [1..]\n",
    "\n",
    "## 4.2 Enumerations\n",
    "\n",
    "    [m..n]\n",
    "    [m..]\n",
    "    [m,n..p]\n",
    "    [m,n..]"
   ]
  },
  {
   "cell_type": "code",
   "execution_count": 1,
   "metadata": {
    "collapsed": false
   },
   "outputs": [
    {
     "data": {
      "text/plain": [
       "[0,1,2,3,4,5,6,7,8,9,10]"
      ]
     },
     "metadata": {},
     "output_type": "display_data"
    },
    {
     "data": {
      "text/plain": [
       "[0,5,10,15,20,25]"
      ]
     },
     "metadata": {},
     "output_type": "display_data"
    },
    {
     "data": {
      "text/plain": [
       "\"abcdefghijklmnopqrstuvwxyz\""
      ]
     },
     "metadata": {},
     "output_type": "display_data"
    }
   ],
   "source": [
    "[0..10]\n",
    "[0,5..27]\n",
    "['a'..'z']"
   ]
  },
  {
   "cell_type": "markdown",
   "metadata": {},
   "source": [
    "## 4.3 List comprehensions"
   ]
  },
  {
   "cell_type": "code",
   "execution_count": 2,
   "metadata": {
    "collapsed": false
   },
   "outputs": [
    {
     "data": {
      "text/plain": [
       "[1,4,9,16,25]"
      ]
     },
     "metadata": {},
     "output_type": "display_data"
    },
    {
     "data": {
      "text/plain": [
       "[1,9,25]"
      ]
     },
     "metadata": {},
     "output_type": "display_data"
    },
    {
     "data": {
      "text/plain": [
       "[(2,2),(2,3),(2,4),(2,5),(4,4),(4,5)]"
      ]
     },
     "metadata": {},
     "output_type": "display_data"
    },
    {
     "data": {
      "text/plain": [
       "[4,2]"
      ]
     },
     "metadata": {},
     "output_type": "display_data"
    },
    {
     "data": {
      "text/plain": [
       "[(3,4,5),(4,3,5),(5,12,13),(6,8,10),(8,6,10),(9,12,15),(12,5,13),(12,9,15)]"
      ]
     },
     "metadata": {},
     "output_type": "display_data"
    }
   ],
   "source": [
    "[x*x | x <- [1..5]]\n",
    "[x*x | x <- [1..5], odd x]\n",
    "[(i,j) | i <- [1..5], even i, j <- [i..5]]\n",
    "[x | xs <- [[(3,4)],[(5,4),(3,2)]], (3,x) <- xs]\n",
    "\n",
    "triads :: Int -> [(Int,Int,Int)]\n",
    "triads n = [(x,y,z) | x <- [1..n], y <- [1..n],\n",
    "                      z <- [1..n], x*x+y*y==z*z]\n",
    "\n",
    "triads 15"
   ]
  },
  {
   "cell_type": "code",
   "execution_count": 3,
   "metadata": {
    "collapsed": false
   },
   "outputs": [
    {
     "data": {
      "text/plain": [
       "True"
      ]
     },
     "metadata": {},
     "output_type": "display_data"
    }
   ],
   "source": [
    "map' f xs = [f x | x <- xs]\n",
    "filter' p xs = [x | x <- xs, p x]\n",
    "concat' xss = [x | xs <- xss, x <- xs]\n",
    "\n",
    "map' (+1) [2,3,4] ==[(+1) x | x <- [2,3,4]]"
   ]
  },
  {
   "cell_type": "markdown",
   "metadata": {},
   "source": [
    "The translation rules are:\n",
    "\n",
    "    [e |True]        = [e]\n",
    "    [e | q]          = [e | q, True]\n",
    "    [e | b, Q]       = if b then [e | Q] else []\n",
    "    [e | p <- xs, Q] = let ok p = [e | Q]\n",
    "                           ok _ = []\n",
    "                       in concat (map ok xs)\n",
    "\n",
    "'_' is a 'don't care' pattern (wild card)\n",
    "\n",
    "## 4.4 Some basic operations"
   ]
  },
  {
   "cell_type": "code",
   "execution_count": 4,
   "metadata": {
    "collapsed": true
   },
   "outputs": [],
   "source": [
    "null' :: [a] -> Bool\n",
    "null' []     = True\n",
    "null' (x:xs) = False\n",
    "\n",
    "head' :: [a] -> a\n",
    "head' (x:xs) = x\n",
    "\n",
    "tail' :: [a] -> [a]\n",
    "tail' (x:xs) = xs\n",
    "\n",
    "\n",
    "last' [x]    = x\n",
    "last' (_:xs) = last xs"
   ]
  },
  {
   "cell_type": "markdown",
   "metadata": {},
   "source": [
    "## 4.5 Concatenation\n",
    "\n",
    "    (++) :: [a] -> [a] -> [a]\n",
    "    [] ++ ys     = ys\n",
    "    (x:xs) ++ ys = x:(xs ++ ys)\n",
    "\n",
    "## 4.6 concat, map and filter\n",
    "\n",
    "    concat :: [[a]] -> [a]\n",
    "    concat [] =[]\n",
    "    concat (xs:xss) = xs ++ concat xss\n",
    "    \n",
    "    map :: (a -> b) -> [a] -> [b]\n",
    "    map f []     = []\n",
    "    map f (x:xs) = f x:map f xs\n",
    "    \n",
    "    filter :: (a -> Bool) -> [a] -> [a]\n",
    "    filter p []     = []\n",
    "    filter p (x:xs) = if p x then x:filter p xs\n",
    "                      else filter p xs\n",
    "\n",
    "map은 다음과 같은 특성을 가지며 이 특성은 map의 functor laws라 불린다.\n",
    "\n",
    "    map id      = id\n",
    "    map (f . g) = map f . map g\n",
    "\n",
    "Haskell은 type class Functor를 가지고 있다.\n",
    "\n",
    "    class Functor f where\n",
    "      fmap :: (a -> b) -> f a -> f b\n"
   ]
  },
  {
   "cell_type": "code",
   "execution_count": null,
   "metadata": {
    "collapsed": true
   },
   "outputs": [],
   "source": []
  }
 ],
 "metadata": {
  "kernelspec": {
   "display_name": "Haskell",
   "language": "haskell",
   "name": "haskell"
  }
 },
 "nbformat": 4,
 "nbformat_minor": 0
}
