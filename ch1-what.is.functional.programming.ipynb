{
 "cells": [
  {
   "cell_type": "code",
   "execution_count": 10,
   "metadata": {
    "collapsed": false,
    "hidden": false
   },
   "outputs": [],
   "source": [
    "-- imports\n",
    "import qualified Data.Char as Char\n",
    "import qualified Data.List as List"
   ]
  },
  {
   "cell_type": "markdown",
   "metadata": {
    "hidden": false
   },
   "source": [
    "# 1장 functional programming은 무엇일까?\n",
    "\n",
    "한 마디로 얘기하면:\n",
    "\n",
    " * functional programming은 명령과 명령의 실행보다 함수와 함수의 적용을 강조하는 프로그래밍 방법이다. 명령과 함수는 side-effect의 차이로 구분할 수 있다.\n",
    " * functional programming은 문제를 명확하고 간결하게 표현할 수 있는 단순한 수학 표기방법을 사용한다.\n",
    " * functional programming은 프로그램의 속성들에 대해서 등식추론(equational reasoning)을 지원하는 단순한 수학적 기반을 가진다. (추가 설명 필요???)\n",
    " \n",
    "## 1.1 Functions and types\n",
    "\n",
    "Haskell에서는 아래와 같이 함수의 형을 표기한다.\n",
    "\n",
    "    -- 함수 f는 1개의 X형의 입력을 받아서 Y형의 결과를 반환한다.\n",
    "    f :: X -> Y\n",
    "\n",
    "    -- 다른 예들\n",
    "    sin :: Float -> Float\n",
    "    age :: Person -> Int\n",
    "\n",
    "\n",
    "## 1.2 Functional composition\n",
    "f :: Y -> Z, g :: X -> Y의 두 함수가 주어졌을때 우리는 이들을 합쳐서 새로운 함수를 만들 수 있다. (composition)\n",
    "\n",
    "    f . g :: X -> Z\n",
    "\n",
    "이 새로운 함수는 아래와 같아진다.\n",
    "\n",
    "    (f . g) x = f (g x)\n",
    "\n",
    "\n",
    "## 1.3 Example: common words\n",
    "\n"
   ]
  },
  {
   "cell_type": "code",
   "execution_count": 11,
   "metadata": {
    "collapsed": false,
    "hidden": false
   },
   "outputs": [
    {
     "data": {
      "text/plain": [
       "cc\t3\n",
       "ba\t2"
      ]
     },
     "metadata": {},
     "output_type": "display_data"
    }
   ],
   "source": [
    "type Text = [Char]\n",
    "type Word = [Char]\n",
    "\n",
    "-- map :: (a->b) -> [a] -> [b] from Prelude\n",
    "-- toLower :: Char -> Char from Data.Char\n",
    "-- map toLower :: Text -> Text\n",
    "\n",
    "sortWords :: [Word] -> [Word]\n",
    "sortWords = List.sort\n",
    "\n",
    "countRuns :: [Word] -> [(Int,Word)]\n",
    "countRuns [] = []\n",
    "countRuns (x:xs) = (hl, x) : countRuns t\n",
    "                   where hl = 1 + (length . takeWhile (\\v -> x==v)) xs\n",
    "                         t = dropWhile (\\v -> x==v) xs\n",
    "                         \n",
    "sortRuns :: [(Int,Word)] -> [(Int,Word)]\n",
    "sortRuns = List.reverse . List.sort\n",
    "\n",
    "-- take :: Int -> [a] -> [a]\n",
    "\n",
    "showRun :: (Int,Word) -> String\n",
    "showRun (x,y) = concat [y, \"\\t\", show(x), \"\\n\"]\n",
    "\n",
    "-- map showRun :: [(Int,Word)] -> [String]\n",
    "\n",
    "-- concat :: [[a]] -> [a] from Prelude\n",
    "commonWords :: Int -> Text -> String\n",
    "commonWords n = concat . map showRun . take n . \n",
    "                sortRuns . countRuns . sortWords . \n",
    "                words . map Char.toLower\n",
    "\n",
    "sample = \"cc ba aa ba cc cc\"\n",
    "\n",
    "putStrLn $ commonWords 2 sample"
   ]
  },
  {
   "cell_type": "markdown",
   "metadata": {
    "hidden": false
   },
   "source": [
    "commonWords 함수는 functional composition에 의해서 8개의 함수들의 파이프라인으로 정의된다. 모든 문제를 이와 같이 바로 분해할 수는 없겠지만 이와 같이 문제를 분해하여 얻어진 프로그램은 단순하며 아름답고 효과적이다.\n",
    "\n",
    "문제를 구성하는 종속적인 함수들의 자료형에 따라서 어떻게 문제가 분해되는지를 잘 보자. 첫번째 가르침이 functional composition의 중요성이라면, 두번째 중요한 가르침은 함수의 자료형을 결정하는 것은 함수의 올바른 정의를 찾아내는 첫 단계라는 것이다.\n",
    "\n",
    "우리가 commonWords를 정의한 방법은 이것을 구성하는 종속적인 함수의 정의를 작성한 것이다. 우리는 이러한 정의들은 'script'라 부른다. script의 순서는 중요하지 않다. 따라서 우리는 commonWords를 제일 앞에 둘 수 있었다."
   ]
  },
  {
   "cell_type": "markdown",
   "metadata": {
    "hidden": false
   },
   "source": [
    "## 1.4 Example: numbers into words\n",
    "\n",
    "이 예제에서는 복잡한 문제들을 단순화하고 단순화된 문제를 해결하는 문제풀이 방식을 보여준다.\n",
    "이 예제에서는 아래와 같이 숫자를 입력받아서 영어 단어들로 변환하는 함수를 작성해본다.\n",
    "\n",
    "    convert 308000 = \"three hundred and eight thousand\"\n",
    "    convert 369027 = \"three hundred and sixty-nine thousand and twenty-seven\""
   ]
  },
  {
   "cell_type": "code",
   "execution_count": 12,
   "metadata": {
    "collapsed": false
   },
   "outputs": [],
   "source": [
    "convert :: Int -> String\n",
    "convert = convert6\n",
    "\n",
    "units, teens, tens :: [String]\n",
    "units = [\"zero\",\"one\",\"two\",\"three\",\"four\",\"five\",\"six\",\"seve\",\"eight\",\"nine\"]\n",
    "teens = [\"ten\",\"eleven\",\"twelve\",\"thirteen\",\"fourteen\",\"fifteen\",\"sixteen\",\"seventeen\",\"eighteen\",\"nineteen\"]\n",
    "tens = [\"twenty\",\"thirty\",\"forty\",\"fifty\",\"sixty\",\"seventy\",\"eighty\",\"ninety\"]\n",
    "\n",
    "convert1 :: Int -> String\n",
    "convert1 n = units !! n\n",
    "\n",
    "digits2 :: Int -> (Int,Int)\n",
    "digits2 n = (div n 10, mod n 10)\n",
    "-- You can use infix version of div and mod by using `\n",
    "-- digits2 n = (n `div` 10, n `mod` 10)\n",
    "-- You can also use divMod\n",
    "-- digits2 n = divMod n 10\n",
    "\n",
    "convert2 :: Int -> String\n",
    "convert2 = combine2 . digits2\n",
    "\n",
    "combine2 :: (Int,Int) -> String\n",
    "combine2 (t,u)\n",
    "  | t==0 = units!!u\n",
    "  | t==1 = teens!!u\n",
    "  -- | 2<=t && u==0 = tens!!(t-2)\n",
    "  | u==0 = tens!!(t-2)\n",
    "  -- | 2<=t && u/=0 = tens!!(t-2) ++ \"-\" ++ units!!u\n",
    "  | otherwise = tens!!(t-2) ++ \"-\" ++ units!!u\n",
    "\n",
    "-- yet another way of writing convert2\n",
    "convert2' :: Int -> String\n",
    "convert2' n\n",
    "  | t==0 = units!!u\n",
    "  | t==1 = teens!!u\n",
    "  | u==0 = tens!!(t-2)\n",
    "  | otherwise = tens!!(t-2) ++ \"-\" ++ units!!u\n",
    "  where (t,u) = (n `div` 10, n `mod` 10)\n",
    "\n",
    "convert3 :: Int -> String\n",
    "convert3 n\n",
    "  | h==0 = convert2 t\n",
    "  | n==0 = units!!h ++ \" hundred\"\n",
    "  | otherwise = units!!h ++ \" hundred and \" ++ convert2 t\n",
    "  where (h,t) = (n `div` 100, n `mod` 100)\n",
    "\n",
    "convert6 :: Int -> String\n",
    "convert6 n\n",
    "  | m==0 = convert3 h\n",
    "  | h==0 = convert3 m ++ \" thousand\"\n",
    "  | otherwise = convert3 m ++ \" thousand\" ++ link h ++ convert3 h\n",
    "  where (m,h) = (n `div` 1000, n `mod` 1000)\n",
    "\n",
    "link :: Int -> String\n",
    "link h = if h < 100 then \" and \" else \" \"\n",
    "-- We could also have used guarded equations\n",
    "-- link h | h < 100 = \" and \"\n",
    "--        | otherwise = \" \""
   ]
  },
  {
   "cell_type": "markdown",
   "metadata": {
    "hidden": false
   },
   "source": [
    "## 1.6 Exercises\n",
    "\n",
    "### Exercise A"
   ]
  },
  {
   "cell_type": "code",
   "execution_count": 13,
   "metadata": {
    "collapsed": false,
    "hidden": false
   },
   "outputs": [
    {
     "data": {
      "text/plain": [
       "[2,8,8,6]"
      ]
     },
     "metadata": {},
     "output_type": "display_data"
    },
    {
     "data": {
      "text/plain": [
       "[4,16,16,12]"
      ]
     },
     "metadata": {},
     "output_type": "display_data"
    },
    {
     "data": {
      "text/plain": [
       "[]"
      ]
     },
     "metadata": {},
     "output_type": "display_data"
    },
    {
     "data": {
      "text/plain": [
       "True"
      ]
     },
     "metadata": {},
     "output_type": "display_data"
    },
    {
     "data": {
      "text/plain": [
       "True"
      ]
     },
     "metadata": {},
     "output_type": "display_data"
    },
    {
     "data": {
      "text/plain": [
       "True"
      ]
     },
     "metadata": {},
     "output_type": "display_data"
    }
   ],
   "source": [
    "double :: Integer -> Integer\n",
    "double x = 2 * x\n",
    "\n",
    "map double [1,4,4,3]\n",
    "map (double . double) [1,4,4,3]\n",
    "map double []\n",
    "\n",
    "sample2 = [1,2,3,4]\n",
    "sample3 = [[1,2], [3,4], [5]]\n",
    "\n",
    "(List.sum . map double) sample2 == (double . List.sum) sample2\n",
    "(List.sum . map List.sum) sample3 == (List.sum . concat) sample3\n",
    "(List.sum . List.sort) sample2 == List.sum sample2"
   ]
  },
  {
   "cell_type": "markdown",
   "metadata": {
    "hidden": false
   },
   "source": [
    "### Exercise D"
   ]
  },
  {
   "cell_type": "code",
   "execution_count": 14,
   "metadata": {
    "collapsed": false,
    "hidden": false
   },
   "outputs": [
    {
     "data": {
      "text/plain": [
       "[\"cc\",\"ba\",\"aa\",\"ba\",\"cc\",\"cc\"]"
      ]
     },
     "metadata": {},
     "output_type": "display_data"
    },
    {
     "data": {
      "text/plain": [
       "[\"cc\",\"ba\",\"aa\",\"ba\",\"cc\",\"cc\"]"
      ]
     },
     "metadata": {},
     "output_type": "display_data"
    }
   ],
   "source": [
    "(words . map Char.toLower) sample\n",
    "(map (map Char.toLower) . words) sample"
   ]
  },
  {
   "cell_type": "markdown",
   "metadata": {
    "hidden": false
   },
   "source": [
    "### Exercise F"
   ]
  },
  {
   "cell_type": "code",
   "execution_count": 15,
   "metadata": {
    "collapsed": false,
    "hidden": false
   },
   "outputs": [
    {
     "data": {
      "text/plain": [
       "\"abc: abc,bca,cab\"\n",
       "\"def: def,fed\""
      ]
     },
     "metadata": {},
     "output_type": "display_data"
    }
   ],
   "source": [
    "anagrams :: Int -> [Word] -> String\n",
    "anagrams n = List.concat . List.intersperse \"\\n\" . map showItem . groupItems . sortItems . map normalize . take n\n",
    "\n",
    "normalize :: Word -> (Word,Word)\n",
    "normalize w = (List.sort w, w)\n",
    "\n",
    "sortItems :: [(Word,Word)] -> [(Word,Word)]\n",
    "sortItems = List.sort\n",
    "\n",
    "groupItems :: [(Word,Word)] -> [(Word,[Word])]\n",
    "groupItems [] = []\n",
    "groupItems xxs@((n,w):xs) = (n, hl) : groupItems t\n",
    "                   where hl = (map snd . takeWhile (\\(v,vs) -> n==v)) xxs\n",
    "                         t = dropWhile (\\(v,vs) -> n==v) xs\n",
    "\n",
    "showItem :: (Word,[Word]) -> String\n",
    "showItem (x,xs) = show . List.concat $ x:\": \":(List.intersperse \",\" xs)\n",
    "\n",
    "putStr $ anagrams 5 [\"abc\", \"bca\", \"cab\", \"def\", \"fed\"]"
   ]
  },
  {
   "cell_type": "markdown",
   "metadata": {
    "hidden": false
   },
   "source": [
    "### Exercise G"
   ]
  },
  {
   "cell_type": "code",
   "execution_count": 16,
   "metadata": {
    "collapsed": false,
    "hidden": false
   },
   "outputs": [
    {
     "data": {
      "text/plain": [
       "\n",
       "One man went to mow\n",
       "Went to mow a meadow\n",
       "One man and his dog\n",
       "Went to mow a meadow"
      ]
     },
     "metadata": {},
     "output_type": "display_data"
    },
    {
     "data": {
      "text/plain": [
       "\n",
       "One man went to mow\n",
       "Went to mow a meadow\n",
       "One man and his dog\n",
       "Went to mow a meadow\n",
       "\n",
       "Two men went to mow\n",
       "Went to mow a meadow\n",
       "Two men, one man and his dog\n",
       "Went to mow a meadow"
      ]
     },
     "metadata": {},
     "output_type": "display_data"
    }
   ],
   "source": [
    "song :: Int -> String\n",
    "song n  = if n==0 then \"\"\n",
    "          else song (n-1) ++ \"\\n\" ++ verse n\n",
    "\n",
    "verse :: Int -> String\n",
    "verse n = line1 n ++ line2 n ++ line3 n ++ line4 n\n",
    "\n",
    "number = [\"\",\"one\",\"two\",\"three\",\"four\",\n",
    "          \"five\",\"six\",\"seven\",\"eight\",\"nine\"]\n",
    "\n",
    "man :: Int -> String\n",
    "man n = number !! n ++ if n == 1 then \" man\" else \" men\"\n",
    "\n",
    "mans :: Int -> String\n",
    "mans n = (concat . List.intersperse \", \" . map man . reverse)  [1..n]\n",
    "\n",
    "cap :: String -> String\n",
    "cap [] = []\n",
    "cap (x:xs) = Char.toUpper x : xs\n",
    "\n",
    "line1 :: Int -> String\n",
    "line1 n = cap $ man n ++ \" went to mow\\n\"\n",
    "\n",
    "line2 :: Int -> String\n",
    "line2 n = \"Went to mow a meadow\\n\"\n",
    "\n",
    "line3 :: Int -> String\n",
    "line3 n = cap $ mans n ++ \" and his dog\\n\"\n",
    "\n",
    "line4 :: Int -> String\n",
    "line4 n = \"Went to mow a meadow\\n\"\n",
    "\n",
    "putStr $ song 1\n",
    "putStr $ song 2"
   ]
  }
 ],
 "metadata": {
  "kernelspec": {
   "display_name": "Haskell",
   "language": "haskell",
   "name": "haskell"
  }
 },
 "nbformat": 4,
 "nbformat_minor": 0
}
