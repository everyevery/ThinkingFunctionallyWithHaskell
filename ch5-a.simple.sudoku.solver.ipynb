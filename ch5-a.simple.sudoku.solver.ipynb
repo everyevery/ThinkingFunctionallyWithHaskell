{
 "cells": [
  {
   "cell_type": "code",
   "execution_count": 2,
   "metadata": {
    "collapsed": true
   },
   "outputs": [],
   "source": [
    "import qualified Data.List as L"
   ]
  },
  {
   "cell_type": "markdown",
   "metadata": {},
   "source": [
    "# 1장 간단한 스도쿠 계산기\n",
    "\n",
    "## 5.1. Specification\n",
    "\n",
    "명세를 작성할 때에는 문제 자체에 대해서만 단순명료하게 명세하고 효율이나 에러처리 등에 대해서는 적지 않는다. 최초에는 매우 비효율적인 프로그램이 만들어지겠지만 그 다음에 functional programming의 방식에 따라서 효율적으로 개선한다."
   ]
  },
  {
   "cell_type": "markdown",
   "metadata": {},
   "source": [
    "## 최초 풀이"
   ]
  },
  {
   "cell_type": "code",
   "execution_count": 3,
   "metadata": {
    "collapsed": false
   },
   "outputs": [],
   "source": [
    "type Matrix a = [Row a]\n",
    "\n",
    "type Row a = [a]\n",
    "\n",
    "type Grid = Matrix Digit\n",
    "type Digit = Char\n",
    "\n",
    "digits :: String\n",
    "digits = ['1' .. '9']\n",
    "\n",
    "blank :: Digit -> Bool\n",
    "blank = (== '0')\n",
    "\n",
    "solve :: Grid -> [Grid]\n",
    "solve = filter valid . completions\n",
    "\n",
    "completions :: Grid -> [Grid]\n",
    "completions = expand . choices\n",
    "\n",
    "choices :: Grid -> Matrix [Digit]\n",
    "choices = map (map choice)\n",
    "\n",
    "choice :: Digit -> [Digit]\n",
    "choice d = if blank d then digits else [d]\n",
    "\n",
    "cp :: [[a]] -> [[a]]\n",
    "cp [] = [[]]\n",
    "cp (xs:xss) = [x:ys | x <- xs, ys <- cp xss]\n",
    "\n",
    "expand :: Matrix [Digit] -> [Grid]\n",
    "expand = cp . map cp\n",
    "\n",
    "valid :: Grid -> Bool\n",
    "valid g = all nodups (rows g) &&\n",
    "          all nodups (cols g) &&\n",
    "          all nodups (boxs g)\n",
    "\n",
    "nodups :: (Eq a) => [a] -> Bool\n",
    "nodups [] = True\n",
    "nodups (x:xs) = notElem x xs && nodups xs\n",
    "\n",
    "rows :: Matrix a -> Matrix a\n",
    "rows = id\n",
    "\n",
    "cols :: Matrix a -> Matrix a\n",
    "cols [xs] = [[x]|x<-xs]\n",
    "cols (xs:xss) = zipWith (:) xs (cols xss)\n",
    "\n",
    "boxs :: Matrix a -> Matrix a\n",
    "boxs = map ungroup . ungroup . map cols . group . map group\n",
    "\n",
    "group :: [a] -> [[a]]\n",
    "group [] = []\n",
    "group xs = take 3 xs : group (drop 3 xs)\n",
    "\n",
    "ungroup :: [[a]] -> [a]\n",
    "ungroup = concat\n",
    "\n",
    "all' :: (a -> Bool) -> [a] -> Bool\n",
    "all' _ [] = True\n",
    "all' f (x:xs) = f x && all' f xs"
   ]
  },
  {
   "cell_type": "markdown",
   "metadata": {},
   "source": [
    "## 2번째 풀이\n",
    "\n",
    "1번째 풀이는 이론적으로 올바르나 현실적으로는 사용할 수 없는 알고리즘이다. 왜냐하면 공백의 개수가 n이라고 하였을때 $9^n$ 의 복잡도를 가진다.\n",
    "\n",
    "좀 더 효율적으로 문제를 풀기 위하여 동일한 행/열/박스 안에 이미 존재하는 값에 대한 중복값을 제거하는 방법이 있다."
   ]
  },
  {
   "cell_type": "code",
   "execution_count": 7,
   "metadata": {
    "collapsed": false
   },
   "outputs": [],
   "source": [
    "type Matrix a = [Row a]\n",
    "\n",
    "type Row a = [a]\n",
    "\n",
    "type Grid = Matrix Digit\n",
    "type Digit = Char\n",
    "\n",
    "digits :: String\n",
    "digits = ['1' .. '9']\n",
    "\n",
    "blank :: Digit -> Bool\n",
    "blank = (== '0')\n",
    "\n",
    "solve2 :: Grid -> [Grid]\n",
    "solve2 = filter valid . completions2\n",
    "\n",
    "completions2 :: Grid -> [Grid]\n",
    "completions2 = expand . many prune . choices\n",
    "\n",
    "many :: (Eq a) => (a -> a) -> a -> a\n",
    "many f x = let y = f x in if x == y then x else many f y\n",
    "\n",
    "prune :: Matrix [Digit] -> Matrix [Digit]\n",
    "prune = rows . map pruneRow . rows . cols . map pruneRow . cols . boxs . map pruneRow . boxs\n",
    "\n",
    "pruneRow :: (Eq a) => Row [a] -> Row [a]\n",
    "pruneRow row = map (remove fixed) row\n",
    "               where fixed = [d | [d] <- row]\n",
    "\n",
    "remove :: (Eq a) => [a] -> [a] -> [a]\n",
    "remove ds [x] = [x]\n",
    "remove ds xs = filter (`notElem` ds) xs\n",
    "\n",
    "all' :: (a -> Bool) -> [a] -> Bool\n",
    "all' _ [] = True\n",
    "all' f (x:xs) = f x && all' f xs\n",
    "\n",
    "notElem' :: (Eq a) => a -> [a] -> Bool\n",
    "--notElem' x xs = all (/=x) xs\n",
    "notElem' = notElem"
   ]
  },
  {
   "cell_type": "markdown",
   "metadata": {},
   "source": [
    "## 3번재 풀이\n",
    "\n",
    "2번 풀이에서 many prune . choices 의 결과는 아래 3가지 중에 하나가 된다.\n",
    "\n",
    "1. sudoku 조건을 만족하는 정답\n",
    "2. 선택할 수 있는 값이 없는 셀을 가지고 있는 행렬. 답이 없는 경우\n",
    "3. 선택할 수 있는 값이 없는 셀은 없으나 일부 셀이 2개 이상의 선택이 있는 경우\n",
    "\n",
    "3번의 경우 full expansion을 하는 것보다 partial expansion을 하면서 prune을 하는 것이 더 효율적이다. (?) single이 아닌 1개 셀에 대해서 expand를 하는 expand1 을 아래와 같이 만든다."
   ]
  },
  {
   "cell_type": "code",
   "execution_count": 8,
   "metadata": {
    "collapsed": true
   },
   "outputs": [],
   "source": [
    "break :: (a -> Bool) -> [a] -> ([a], [a])\n",
    "break p = span (not . p)\n",
    "\n",
    "single :: [a] -> Bool\n",
    "single [_] = True\n",
    "single _ = False\n",
    "\n",
    "expand1 :: Matrix [Digit] -> [Matrix [Digit]]\n",
    "expand1 rows\n",
    "     = [rows1 ++ [row1 ++ [c]:row2] ++ rows2 | c <- cs]\n",
    "       where\n",
    "         (rows1,row:rows2) = break (any (not . single)) rows\n",
    "         (row1,cs:row2)    = break (not . single) row"
   ]
  },
  {
   "cell_type": "markdown",
   "metadata": {},
   "source": [
    "위 expand1은 single 이 아닌 셀에 대해서 동작을 하는데, 이 셀이 선택이 없는 경우 expand1을 해도 빈 리스트가 된다. 이러한 답이 없는 경우를 빨리 찾을 수 있도록 해야 문제를 더 효율적으로 풀 수 있다. 따라서 single이 아닌 것 중에서 선택이 가장 적은 셀에 대해서부터 expand1을 적용하는 것이 더 효율적이다."
   ]
  },
  {
   "cell_type": "code",
   "execution_count": 10,
   "metadata": {
    "collapsed": false
   },
   "outputs": [],
   "source": [
    "complete :: Matrix [Digit] -> Bool\n",
    "complete = all (all single)\n",
    "\n",
    "safe :: Matrix [Digit] -> Bool\n",
    "safe m = all ok (rows m) &&\n",
    "         all ok (cols m) &&\n",
    "         all ok (boxs m)\n",
    "\n",
    "ok :: (Eq a) => [[a]] -> Bool\n",
    "ok row = nodups [x| [x] <- row]\n",
    "\n",
    "expand1' :: Matrix [Digit] -> [Matrix [Digit]]\n",
    "expand1' rows = [rows1 ++ [row ++ [c]:row2] ++ rows2 | c <- cs]\n",
    "                where\n",
    "                  (rows1, row:rows2) = break (any smallest) rows\n",
    "                  (row1, cs:row2) = break smallest row\n",
    "                  smallest cs = length cs == n\n",
    "                  n = minimum (counts rows)\n",
    "                  counts = filter (/= 1) . map length . concat\n",
    "\n",
    "minimum' :: (Ord a) => [a] -> a\n",
    "minimum' = foldr1 (\\x y -> if x < y then x else y)\n",
    "\n",
    "extract :: Matrix [Digit] -> Grid\n",
    "extract = map (map head)\n",
    "\n",
    "search :: Matrix [Digit] -> [Grid]\n",
    "search cm\n",
    "  | not (safe pm) = []\n",
    "  | complete pm = [extract pm]\n",
    "  | otherwise = concat (map search (expand1' pm))\n",
    "  where pm = prune cm\n",
    "\n",
    "solve3 :: Grid -> [Grid]\n",
    "solve3 = search . choices"
   ]
  },
  {
   "cell_type": "markdown",
   "metadata": {
    "collapsed": true
   },
   "source": [
    "    filter p . concat = concat . map (filter p)"
   ]
  },
  {
   "cell_type": "markdown",
   "metadata": {},
   "source": [
    "문제의 정의를 단순명료하게 하고 이후에 단계적으로 효율개선이나 예외처리를 추가한다."
   ]
  },
  {
   "cell_type": "code",
   "execution_count": null,
   "metadata": {
    "collapsed": true
   },
   "outputs": [],
   "source": []
  }
 ],
 "metadata": {
  "kernelspec": {
   "display_name": "Haskell",
   "language": "haskell",
   "name": "haskell"
  }
 },
 "nbformat": 4,
 "nbformat_minor": 0
}
