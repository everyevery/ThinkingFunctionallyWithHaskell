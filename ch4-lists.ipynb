{
 "cells": [
  {
   "cell_type": "markdown",
   "metadata": {},
   "source": [
    "# 4장 Lists\n",
    "\n",
    "## 4.1 List notation\n",
    "\n",
    "List 자료구조는 functional programming에서 가장 중요한 자료구조이다. List는 매우 많은 유용한 연산을 가지고 있다.\n",
    "\n",
    "a 자료형으로 이루어진 list는 [a]로 표기한다.\n",
    "\n",
    "    [undefined,undefined] :: [a]\n",
    "    [sin,cos,tan]         :: Floating a => [a -> a]\n",
    "    [[1,2,3],[4,5]]       :: Num a => [[a]]\n",
    "    [\"tea\",\"for\",2]          not valid\n",
    "\n",
    "사실 [a]의 list 표기법은 1:2:3:[]의 축약이다. (:) :: a -> [a] -> [a] 는 list를 만드는 연산자이며 'cons'라 부른다. (:)는 두 인자 모두에 대해서 non-strict로 동작한다. 따라서 undefined : undefined도 가능하다.\n",
    "\n",
    "empty list []도 list constructor이다. List는 Haskell data ypte에서 아래와 같이 선언할 수 있다.\n",
    "\n",
    "    data List a = Nil | Cons a (List a)\n",
    "\n",
    "위 정의에 따르면 모든 list는 다음의 3가지 형태 중에 하나임.\n",
    "\n",
    "* undefined :: [a]\n",
    "* [] :: [a]\n",
    "* x:xs where x :: a and xs :: [a]\n",
    "\n",
    "그 결과 3가지 list가 존재한다.\n",
    "\n",
    "* finite list: (:)과 []로 만들어짐. 1:2:3:[]\n",
    "* partial list: (:)가 undefined로 만들어짐. 1:2:3:undefined\n",
    "* infinite list: (:)로만 만들어짐. [1..]\n",
    "\n",
    "## 4.2 Enumerations\n",
    "\n",
    "    [m..n]\n",
    "    [m..]\n",
    "    [m,n..p]\n",
    "    [m,n..]"
   ]
  },
  {
   "cell_type": "code",
   "execution_count": 1,
   "metadata": {
    "collapsed": false
   },
   "outputs": [
    {
     "data": {
      "text/plain": [
       "[0,1,2,3,4,5,6,7,8,9,10]"
      ]
     },
     "metadata": {},
     "output_type": "display_data"
    },
    {
     "data": {
      "text/plain": [
       "[0,5,10,15,20,25]"
      ]
     },
     "metadata": {},
     "output_type": "display_data"
    },
    {
     "data": {
      "text/plain": [
       "\"abcdefghijklmnopqrstuvwxyz\""
      ]
     },
     "metadata": {},
     "output_type": "display_data"
    }
   ],
   "source": [
    "[0..10]\n",
    "[0,5..27]\n",
    "['a'..'z']"
   ]
  },
  {
   "cell_type": "markdown",
   "metadata": {},
   "source": [
    "## 4.3 List comprehensions"
   ]
  },
  {
   "cell_type": "code",
   "execution_count": 2,
   "metadata": {
    "collapsed": false
   },
   "outputs": [
    {
     "data": {
      "text/plain": [
       "[1,4,9,16,25]"
      ]
     },
     "metadata": {},
     "output_type": "display_data"
    },
    {
     "data": {
      "text/plain": [
       "[1,9,25]"
      ]
     },
     "metadata": {},
     "output_type": "display_data"
    },
    {
     "data": {
      "text/plain": [
       "[(2,2),(2,3),(2,4),(2,5),(4,4),(4,5)]"
      ]
     },
     "metadata": {},
     "output_type": "display_data"
    },
    {
     "data": {
      "text/plain": [
       "[4,2]"
      ]
     },
     "metadata": {},
     "output_type": "display_data"
    },
    {
     "data": {
      "text/plain": [
       "[(3,4,5),(4,3,5),(5,12,13),(6,8,10),(8,6,10),(9,12,15),(12,5,13),(12,9,15)]"
      ]
     },
     "metadata": {},
     "output_type": "display_data"
    }
   ],
   "source": [
    "[x*x | x <- [1..5]]\n",
    "[x*x | x <- [1..5], odd x]\n",
    "[(i,j) | i <- [1..5], even i, j <- [i..5]]\n",
    "[x | xs <- [[(3,4)],[(5,4),(3,2)]], (3,x) <- xs]\n",
    "\n",
    "triads :: Int -> [(Int,Int,Int)]\n",
    "triads n = [(x,y,z) | x <- [1..n], y <- [1..n],\n",
    "                      z <- [1..n], x*x+y*y==z*z]\n",
    "\n",
    "triads 15"
   ]
  },
  {
   "cell_type": "code",
   "execution_count": 3,
   "metadata": {
    "collapsed": false
   },
   "outputs": [
    {
     "data": {
      "text/plain": [
       "True"
      ]
     },
     "metadata": {},
     "output_type": "display_data"
    }
   ],
   "source": [
    "map' f xs = [f x | x <- xs]\n",
    "filter' p xs = [x | x <- xs, p x]\n",
    "concat' xss = [x | xs <- xss, x <- xs]\n",
    "\n",
    "map' (+1) [2,3,4] ==[(+1) x | x <- [2,3,4]]"
   ]
  },
  {
   "cell_type": "markdown",
   "metadata": {},
   "source": [
    "The translation rules are:\n",
    "\n",
    "    [e | True]        = [e]\n",
    "    [e | q]          = [e | q, True]\n",
    "    [e | b, Q]       = if b then [e | Q] else []\n",
    "    [e | p <- xs, Q] = let ok p = [e | Q]\n",
    "                           ok _ = []\n",
    "                       in concat (map ok xs)\n",
    "\n",
    "'_' is a 'don't care' pattern (wild card)\n",
    "\n",
    "## 4.4 Some basic operations"
   ]
  },
  {
   "cell_type": "code",
   "execution_count": 4,
   "metadata": {
    "collapsed": true
   },
   "outputs": [],
   "source": [
    "null' :: [a] -> Bool\n",
    "null' []     = True\n",
    "null' (x:xs) = False\n",
    "\n",
    "head' :: [a] -> a\n",
    "head' (x:xs) = x\n",
    "\n",
    "tail' :: [a] -> [a]\n",
    "tail' (x:xs) = xs\n",
    "\n",
    "\n",
    "last' [x]    = x\n",
    "last' (_:xs) = last xs"
   ]
  },
  {
   "cell_type": "markdown",
   "metadata": {},
   "source": [
    "## 4.5 Concatenation\n",
    "\n",
    "    (++) :: [a] -> [a] -> [a]\n",
    "    [] ++ ys     = ys\n",
    "    (x:xs) ++ ys = x:(xs ++ ys)\n",
    "\n",
    "## 4.6 concat, map and filter\n",
    "\n",
    "    concat :: [[a]] -> [a]\n",
    "    concat [] =[]\n",
    "    concat (xs:xss) = xs ++ concat xss\n",
    "    \n",
    "    map :: (a -> b) -> [a] -> [b]\n",
    "    map f []     = []\n",
    "    map f (x:xs) = f x:map f xs\n",
    "    \n",
    "    filter :: (a -> Bool) -> [a] -> [a]\n",
    "    filter p []     = []\n",
    "    filter p (x:xs) = if p x then x:filter p xs\n",
    "                      else filter p xs\n",
    "\n",
    "map은 다음과 같은 특성을 가지며 이 특성은 map의 functor laws라 불린다.\n",
    "\n",
    "    map id      = id\n",
    "    map (f . g) = map f . map g\n",
    "\n",
    "Haskell은 type class Functor를 가지고 있다.\n",
    "\n",
    "    class Functor f where\n",
    "      fmap :: (a -> b) -> f a -> f b\n",
    "\n",
    "Functor는 List 외의 다른 자료구조에도 일반화할 수 있다. 아래는 Tree에 대한 Functor instance 예임.\n",
    "\n",
    "    data Tree a = Tip a | Fork (Tree a) (Tree a)\n",
    "    \n",
    "    instance Functor Tree where\n",
    "      fmap f (Tip x) = Tip (f x)\n",
    "      fmap f (Fork u v) = Fork (fmap f u) (fmap f v)\n",
    "\n",
    "map은 list의 fmap과 동일하다."
   ]
  },
  {
   "cell_type": "code",
   "execution_count": 5,
   "metadata": {
    "collapsed": false
   },
   "outputs": [
    {
     "data": {
      "text/plain": [
       "[3,4,5]"
      ]
     },
     "metadata": {},
     "output_type": "display_data"
    },
    {
     "data": {
      "text/plain": [
       "[3,4,5]"
      ]
     },
     "metadata": {},
     "output_type": "display_data"
    }
   ],
   "source": [
    "fmap (+1) [2,3,4]\n",
    "map (+1) [2,3,4]"
   ]
  },
  {
   "cell_type": "markdown",
   "metadata": {},
   "source": [
    "Functor에서 보았듯이 특정 자료구조에 의존하지 않는 일반화할 수 있는 것들이 나오면 이것은 적합한 type class로 만들어질 수 있다.\n",
    "\n",
    "map에 대한 다른 규칙들을 보면\n",
    "\n",
    "    f . head       = head . map f\n",
    "    map f . tail   = tail . map f\n",
    "    map f . concat = concat . map (map f)\n",
    "    \n",
    "이 중 첫번째는 strict function에 대해서만 만족한다. 만약 []에 적용을 해본 다면\n",
    "\n",
    "    f (head []) = head (map f []) = head []\n",
    "    \n",
    "head []는 undefined 이므로, 이 등식을 참으로 하기 위해서는 f가 strict이어야 한다.\n",
    "\n",
    "이 밖에도 몇 가지 법칙들을 더 보면\n",
    "\n",
    "    map f . reverse = reverse . map f\n",
    "    \n",
    "    concat . map concat = concat . concat\n",
    "    \n",
    "    filter p . map f = map f . filter (p . f)\n",
    "\n",
    "## zip and zipWith\n",
    "\n",
    "    zip :: [a] -> [b] -> [(a,b)]\n",
    "    zip (x:xs) (y:ys) = (x,y): zip xs ys\n",
    "    zip _ _ = []\n",
    "    \n",
    "    zip = zipWith (,)\n",
    "    \n",
    "haskell의 패턴매칭은 위에서 아래, 좌에서 우의 순서로 이루어진다. 따라서 아래와 같은 결과가 나온다.\n",
    "\n",
    "    zip [] undefined = []\n",
    "    zip undefined [] = undefined\n",
    "\n",
    "list가 모든 원소에 대해서 증가하는 패턴인지 확인하는 nondec 함수\n",
    "\n",
    "    nondec :: (Ord a) => [a] -> Bool\n",
    "    nondec []    = True\n",
    "    nondec [x]   = True\n",
    "    nondec (x:y:xs) = (x <= y) && nondec (y:xs)\n",
    "    \n",
    "아래와 같이도 정의 가능\n",
    "   \n",
    "    nondec xs = and (zipWith (<=) xs (tail xs))\n",
    "\n",
    "position은 xs에서 처음 나오는 x의 위치를 찾는다. x가 없는 경우 -1 반환"
   ]
  },
  {
   "cell_type": "code",
   "execution_count": 6,
   "metadata": {
    "collapsed": false
   },
   "outputs": [
    {
     "data": {
      "text/plain": [
       "2"
      ]
     },
     "metadata": {},
     "output_type": "display_data"
    }
   ],
   "source": [
    "position :: (Eq a) => a -> [a] -> Int\n",
    "position x xs = head ([j | (j,y) <- zip [0..] xs, y==x] ++ [-1])\n",
    "\n",
    "position 3 [1..5]"
   ]
  },
  {
   "cell_type": "markdown",
   "metadata": {},
   "source": [
    "## 4.8 Common words, completed\n",
    "\n",
    "1.3의 commonWords 프로그램을 완성해보자. (직접 구현했던 것과 좀 다름)\n",
    "span을 사용해서 카운팅된 단어는 제거하고 나머지에 대해서만 재귀수행하여 성능이 더 좋음.\n",
    "\n",
    "    span :: (a -> Bool) -> [a] -> ([a],[a])\n",
    "    span p []     = ([],[])\n",
    "    span p (x:xs) = if p x then (x:ys,zs)\n",
    "                    else ([],x:xs)\n",
    "                    where (ys,zs) = span p xs\n",
    "\n",
    "sort, merge도 직접 구현했는데, merge에 사용된 @은 as의 의미로 쓰임.\n",
    "\n",
    "    -- (x:xs)를 xs'로 바인딩\n",
    "    xs'@(x:xs)\n",
    "\n",
    "sort [x] 패턴이 없는 경우 무한루프에 빠짐\n",
    "\n",
    "    sort [x] = merge (sort []) (sort [x])"
   ]
  },
  {
   "cell_type": "code",
   "execution_count": 7,
   "metadata": {
    "collapsed": false
   },
   "outputs": [
    {
     "data": {
      "text/plain": [
       "cc: 3\n",
       "ba: 2"
      ]
     },
     "metadata": {},
     "output_type": "display_data"
    }
   ],
   "source": [
    "-- imports\n",
    "import qualified Data.Char as Char\n",
    "import qualified Data.List as List\n",
    "\n",
    "type Text = [Char]\n",
    "type Word = [Char]\n",
    "\n",
    "-- map :: (a->b) -> [a] -> [b] from Prelude\n",
    "-- toLower :: Char -> Char from Data.Char\n",
    "-- map toLower :: Text -> Text\n",
    "\n",
    "sortWords :: [Word] -> [Word]\n",
    "sortWords = sort'\n",
    "\n",
    "countRuns :: [Word] -> [(Int,Word)]\n",
    "countRuns []     = []\n",
    "countRuns (w:ws) = (1+length us,w):countRuns vs\n",
    "                   where (us,vs) = span (==w) ws\n",
    "                         \n",
    "sortRuns :: [(Int,Word)] -> [(Int,Word)]\n",
    "sortRuns = List.reverse . sort'\n",
    "\n",
    "-- take :: Int -> [a] -> [a]\n",
    "\n",
    "showRun :: (Int,Word) -> String\n",
    "showRun (n,w) = w ++ \": \" ++ show n ++ \"\\n\"\n",
    "\n",
    "sort' :: (Ord a) => [a] -> [a]\n",
    "sort' [] =[]\n",
    "sort' [x] = [x]\n",
    "sort' xs = merge' (sort' ys) (sort' zs)\n",
    "           where (ys,zs) = halve xs\n",
    "halve xs = (take n xs, drop n xs)\n",
    "            where n = length xs `div` 2\n",
    "\n",
    "merge' :: (Ord a) => [a] -> [a] -> [a]\n",
    "merge' [] ys = ys\n",
    "merge' xs [] = xs\n",
    "merge' xs'@(x:xs) ys'@(y:ys)\n",
    "  | x <= y    = x:merge' xs ys'\n",
    "  | otherwise = y:merge' xs' ys\n",
    "\n",
    "-- map showRun :: [(Int,Word)] -> [String]\n",
    "\n",
    "-- concat :: [[a]] -> [a] from Prelude\n",
    "commonWords :: Int -> Text -> String\n",
    "commonWords n = concat . map showRun . take n . \n",
    "                sortRuns . countRuns . sortWords . \n",
    "                words . map Char.toLower\n",
    "\n",
    "sample = \"cc ba aa ba cc cc\"\n",
    "\n",
    "putStrLn $ commonWords 2 sample"
   ]
  },
  {
   "cell_type": "code",
   "execution_count": null,
   "metadata": {
    "collapsed": true
   },
   "outputs": [],
   "source": []
  }
 ],
 "metadata": {
  "kernelspec": {
   "display_name": "Haskell",
   "language": "haskell",
   "name": "haskell"
  }
 },
 "nbformat": 4,
 "nbformat_minor": 0
}
